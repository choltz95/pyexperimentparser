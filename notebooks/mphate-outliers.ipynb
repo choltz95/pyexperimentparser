{
 "cells": [
  {
   "cell_type": "code",
   "execution_count": null,
   "metadata": {},
   "outputs": [],
   "source": [
    "# http://snap.stanford.edu/class/cs224w-2016/projects/cs224w-6-final.pdf"
   ]
  },
  {
   "cell_type": "code",
   "execution_count": 68,
   "metadata": {},
   "outputs": [],
   "source": [
    "import os, sys\n",
    "sys.path.append('..')\n",
    "sys.path.insert(0,'../submodule/m-phate')"
   ]
  },
  {
   "cell_type": "code",
   "execution_count": 168,
   "metadata": {},
   "outputs": [],
   "source": [
    "import m_phate\n",
    "import numpy as np\n",
    "import matplotlib.pyplot as plt\n",
    "from sklearn.cluster import KMeans\n",
    "from tqdm import tqdm_notebook as tqdm\n",
    "import scprep"
   ]
  },
  {
   "cell_type": "code",
   "execution_count": 226,
   "metadata": {},
   "outputs": [],
   "source": [
    "n_nodes = 54\n",
    "T = 1001"
   ]
  },
  {
   "cell_type": "code",
   "execution_count": 227,
   "metadata": {},
   "outputs": [],
   "source": [
    "with open('/Users/orange3xchicken/Downloads/connectivity.txt', 'r') as f:\n",
    "    connectivity = f.read().splitlines()"
   ]
  },
  {
   "cell_type": "code",
   "execution_count": 228,
   "metadata": {},
   "outputs": [],
   "source": [
    "connectivity = [[float(c) for c in conn.split()] for conn in connectivity]"
   ]
  },
  {
   "cell_type": "code",
   "execution_count": 229,
   "metadata": {},
   "outputs": [],
   "source": [
    "# ignore this\n",
    "with open('/Users/orange3xchicken/Downloads/mote_locs.txt', 'r') as f:\n",
    "    mote_locs = f.read().splitlines()"
   ]
  },
  {
   "cell_type": "code",
   "execution_count": 230,
   "metadata": {},
   "outputs": [],
   "source": [
    "mote_locs = [[float(m) for m in ml.split()] for  ml in mote_locs ]"
   ]
  },
  {
   "cell_type": "code",
   "execution_count": 231,
   "metadata": {},
   "outputs": [],
   "source": [
    "with open('/Users/orange3xchicken/Downloads/data.txt', 'r') as f:\n",
    "    data = f.read().splitlines()"
   ]
  },
  {
   "cell_type": "code",
   "execution_count": 232,
   "metadata": {},
   "outputs": [
    {
     "data": {
      "application/vnd.jupyter.widget-view+json": {
       "model_id": "7e43f4d758194f7ea0469232cd893300",
       "version_major": 2,
       "version_minor": 0
      },
      "text/plain": [
       "HBox(children=(IntProgress(value=0, max=2313682), HTML(value='')))"
      ]
     },
     "metadata": {},
     "output_type": "display_data"
    }
   ],
   "source": [
    "data = [[float(d) for d in da.split()[2:]] for  da in tqdm(data)]"
   ]
  },
  {
   "cell_type": "code",
   "execution_count": 233,
   "metadata": {},
   "outputs": [],
   "source": [
    "adj = np.zeros((n_nodes, n_nodes))"
   ]
  },
  {
   "cell_type": "code",
   "execution_count": 234,
   "metadata": {},
   "outputs": [
    {
     "data": {
      "application/vnd.jupyter.widget-view+json": {
       "model_id": "bbb45f754cf14a4ea02dc5c057ce4e1f",
       "version_major": 2,
       "version_minor": 0
      },
      "text/plain": [
       "HBox(children=(IntProgress(value=0, max=2972), HTML(value='')))"
      ]
     },
     "metadata": {},
     "output_type": "display_data"
    }
   ],
   "source": [
    "for c in tqdm(connectivity):\n",
    "    if len(c) < 3:\n",
    "        continue\n",
    "    else:\n",
    "        adj[int(c[0])-1, int(c[1])-1] = c[2]"
   ]
  },
  {
   "cell_type": "code",
   "execution_count": 235,
   "metadata": {},
   "outputs": [
    {
     "data": {
      "text/plain": [
       "[[2.0, 1.0, 122.153, -3.91901, 11.04, 2.03397],\n",
       " [3.0, 1.0, 19.9884, 37.0933, 45.08, 2.69964],\n",
       " [11.0, 1.0, 19.3024, 38.4629, 45.08, 2.68742],\n",
       " [17.0, 1.0, 19.1652, 38.8039, 45.08, 2.68742],\n",
       " [18.0, 1.0, 19.175, 38.8379, 45.08, 2.69964]]"
      ]
     },
     "execution_count": 235,
     "metadata": {},
     "output_type": "execute_result"
    }
   ],
   "source": [
    "data[:5]"
   ]
  },
  {
   "cell_type": "code",
   "execution_count": 236,
   "metadata": {},
   "outputs": [
    {
     "data": {
      "application/vnd.jupyter.widget-view+json": {
       "model_id": "460e6030b3c54f5283548e37e3879763",
       "version_major": 2,
       "version_minor": 0
      },
      "text/plain": [
       "HBox(children=(IntProgress(value=0, max=2313682), HTML(value='')))"
      ]
     },
     "metadata": {},
     "output_type": "display_data"
    },
    {
     "name": "stdout",
     "output_type": "stream",
     "text": [
      "[2.0, 56.0, 25.2314, 32.2293, 0.0402204, 2.82819]\n",
      "[3.0, 56.0, 25.104, 32.3698, 0.0402204, 2.82819]\n",
      "[7.0, 56.0, 24.5944, 33.0709, 0.0201102, 2.81479]\n",
      "[8.0, 56.0, 24.4866, 33.2458, 0.0201102, 2.82819]\n",
      "[9.0, 56.0, 24.3984, 33.4206, 0.0201102, 2.82819]\n",
      "[10.0, 56.0, 24.3102, 33.5604, 0.0201102, 2.82819]\n",
      "[11.0, 56.0, 24.2416, 33.7, 0.0201102, 2.82819]\n",
      "[13.0, 56.0, 24.1044, 33.9442, 0.0201102, 2.81479]\n",
      "[14.0, 56.0, 24.0456, 34.0487, 0.0201102, 2.82819]\n",
      "[15.0, 56.0, 23.9868, 34.188, 0.0201102, 2.81479]\n",
      "[16.0, 56.0, 23.9476, 34.2925, 0.0201102, 2.81479]\n",
      "[17.0, 56.0, 23.9084, 34.3969, 0.92, 2.81479]\n",
      "[18.0, 56.0, 23.8692, 34.536, 0.0402204, 2.82819]\n",
      "[19.0, 56.0, 23.8496, 34.536, 0.0201102, 2.81479]\n",
      "[20.0, 56.0, 23.8006, 34.536, 0.0201102, 2.80151]\n",
      "[22.0, 56.0, 23.7614, 34.7445, 0.0402204, 2.80151]\n",
      "[23.0, 56.0, 23.732, 34.8139, 0.0402204, 2.82819]\n",
      "[24.0, 56.0, 23.7124, 34.8834, 0.0201102, 2.82819]\n",
      "[25.0, 56.0, 23.6928, 34.9528, 0.0402204, 2.82819]\n",
      "[26.0, 56.0, 23.6732, 35.0222, 0.0201102, 2.81479]\n",
      "[27.0, 56.0, 23.6536, 35.0915, 0.0201102, 2.82819]\n",
      "[28.0, 56.0, 23.634, 35.1609, 0.0201102, 2.80151]\n",
      "[29.0, 56.0, 23.6242, 35.1955, 0.0201102, 2.81479]\n",
      "[30.0, 56.0, 23.6144, 35.2302, 0.0201102, 2.81479]\n",
      "[31.0, 56.0, 23.5948, 35.2995, 0.92, 2.80151]\n",
      "[32.0, 56.0, 23.585, 35.2995, 0.0402204, 2.82819]\n",
      "[34.0, 56.0, 23.5752, 35.4034, 0.0402204, 2.81479]\n",
      "[35.0, 56.0, 23.5654, 35.438, 0.0402204, 2.81479]\n",
      "[36.0, 56.0, 23.5458, 35.5072, 0.0402204, 2.80151]\n",
      "[37.0, 56.0, 23.5556, 35.5072, 0.0201102, 2.81479]\n",
      "[38.0, 56.0, 23.5556, 35.5418, 0.0201102, 2.81479]\n",
      "[39.0, 56.0, 23.5458, 35.5764, 0.0201102, 2.81479]\n",
      "[40.0, 56.0, 23.536, 35.611, 0.0201102, 2.80151]\n",
      "[41.0, 56.0, 23.536, 35.6456, 0.0201102, 2.81479]\n",
      "[43.0, 56.0, 23.5262, 35.7148, 0.0201102, 2.82819]\n",
      "[45.0, 56.0, 23.5164, 35.7148, 0.0201102, 2.81479]\n",
      "[46.0, 56.0, 23.5164, 35.7148, 0.0201102, 2.81479]\n",
      "[47.0, 56.0, 23.5164, 35.7494, 0.0201102, 2.80151]\n",
      "[49.0, 56.0, 23.5164, 35.7839, 0.0402204, 2.80151]\n",
      "[50.0, 56.0, 23.5066, 35.7839, 0.0402204, 2.81479]\n",
      "[51.0, 56.0, 23.4968, 35.7839, 0.0402204, 2.81479]\n",
      "[54.0, 56.0, 23.4968, 35.853, 0.0402204, 2.81479]\n",
      "[55.0, 56.0, 23.4968, 35.853, 0.0402204, 2.81479]\n",
      "[56.0, 56.0, 23.4772, 35.853, 0.0402204, 2.82819]\n",
      "[57.0, 56.0, 23.4968, 35.853, 0.0402204, 2.81479]\n",
      "[58.0, 56.0, 23.536, 36.4396, 37.72, 2.80151]\n",
      "[510.0, 56.0, 24.1534, 41.7469, 861.12, 3.12589]\n",
      "[512.0, 56.0, 23.536, 45.1763, 1140.8, 3.10953]\n",
      "[513.0, 56.0, 23.4772, 43.4524, 861.12, 3.09333]\n",
      "[574.0, 57.0, 53.6635, 3.19312]\n",
      "[2.0, 58.0, 28.24, 20.7731, 128.8, 2.89717]\n",
      "[2.0, 58.0, 25.496, 24.5821, 2.85538]\n",
      "[3.0, 58.0, 28.2204, 21.6575, 108.56, 2.89717]\n",
      "[4.0, 58.0, 28.1616, 23.0877, 294.4, 2.88311]\n",
      "[5.0, 58.0, 25.8194, 22.6852, 82.8, 2.85538]\n",
      "[6.0, 58.0, 25.3784, 21.5839, 1023.04, 2.85538]\n",
      "[7.0, 58.0, 27.946, 22.025, 143.52, 2.88311]\n",
      "[8.0, 58.0, 25.2412, 23.4896, 1023.04, 2.85538]\n",
      "[9.0, 58.0, 25.1628, 23.307, 1023.04, 2.85538]\n",
      "[11.0, 58.0, 27.701, 22.0985, 143.52, 2.88311]\n",
      "[13.0, 58.0, 25.0648, 22.1352, 1023.04, 2.85538]\n",
      "[14.0, 58.0, 25.0452, 22.3187, 1023.04, 2.85538]\n",
      "[16.0, 58.0, 25.1138, 23.1974, 1023.04, 2.85538]\n",
      "[19.0, 58.0, 25.1236, 22.5386, 964.16, 2.85538]\n",
      "[21.0, 58.0, 25.153, 23.4166, 964.16, 2.85538]\n",
      "[22.0, 58.0, 25.1236, 22.9414, 964.16, 2.85538]\n",
      "[24.0, 58.0, 25.1236, 22.0985, 964.16, 2.85538]\n",
      "[26.0, 58.0, 25.1138, 23.2705, 964.16, 2.85538]\n",
      "[27.0, 58.0, 25.1236, 23.1243, 964.16, 2.85538]\n",
      "[30.0, 58.0, 25.0648, 23.7814, 964.16, 2.85538]\n",
      "[34.0, 58.0, 24.9668, 23.7449, 920.0, 2.85538]\n",
      "[35.0, 58.0, 24.9668, 23.8543, 920.0, 2.85538]\n",
      "[36.0, 58.0, 24.957, 23.9636, 920.0, 2.85538]\n",
      "[37.0, 58.0, 24.9472, 23.4531, 890.56, 2.85538]\n",
      "[38.0, 58.0, 24.9276, 24.0729, 890.56, 2.85538]\n",
      "[40.0, 58.0, 24.8688, 22.8682, 890.56, 2.85538]\n",
      "[42.0, 58.0, 24.8394, 22.6119, 861.12, 2.85538]\n",
      "[87.0, 58.0, 20.7724, 29.0088, 24.84, 2.65143]\n",
      "[579.0, 58.0, 23.9672, 41.3098, 323.84, 3.12589]\n",
      "[582.0, 58.0, 23.3792, 42.5178, 323.84, 3.12589]\n",
      "[583.0, 58.0, 23.2616, 42.8187, 323.84, 3.10953]\n",
      "[584.0, 58.0, 23.1538, 43.0524, 323.84, 3.10953]\n",
      "[588.0, 58.0, 22.8892, 43.6188, 323.84, 3.09333]\n",
      "[589.0, 58.0, 22.899, 45.1103, 309.12, 3.10953]\n",
      "[965.0, 58.0, 25.6136, 29.9691, 34.04, 2.71196]\n",
      "[1.0]\n",
      "[2.0]\n",
      "[3.0]\n",
      "[4.0]\n",
      "[5.0]\n",
      "[6.0]\n",
      "[7.0]\n",
      "[8.0]\n",
      "[9.0]\n",
      "[10.0]\n",
      "[11.0]\n",
      "[12.0]\n",
      "[13.0]\n",
      "[14.0]\n",
      "[15.0]\n",
      "[16.0]\n",
      "[17.0]\n",
      "[18.0]\n",
      "[19.0]\n",
      "[20.0]\n",
      "[21.0]\n",
      "[22.0]\n",
      "[22.0]\n",
      "[23.0]\n",
      "[25.0]\n",
      "[27.0]\n",
      "[28.0]\n",
      "[29.0]\n",
      "[30.0]\n",
      "[31.0]\n",
      "[32.0]\n",
      "[33.0]\n",
      "[34.0]\n",
      "[55.0]\n",
      "[108.0]\n",
      "[113.0]\n",
      "[149.0]\n",
      "[150.0]\n",
      "[152.0]\n",
      "[153.0]\n",
      "[154.0]\n",
      "[155.0]\n",
      "[156.0]\n",
      "[159.0]\n",
      "[160.0]\n",
      "[162.0]\n",
      "[163.0]\n",
      "[164.0]\n",
      "[165.0]\n",
      "[167.0]\n",
      "[168.0]\n",
      "[169.0]\n",
      "[170.0]\n",
      "[171.0]\n",
      "[172.0]\n",
      "[173.0]\n",
      "[178.0]\n",
      "[179.0]\n",
      "[186.0]\n",
      "[188.0]\n",
      "[189.0]\n",
      "[509.0]\n",
      "[512.0]\n"
     ]
    }
   ],
   "source": [
    "node_features = [[] for _ in range(n_nodes+1)]\n",
    "for d in tqdm(data):\n",
    "    if d[0] > T:\n",
    "        continue\n",
    "    try:\n",
    "        node_features[int(d[1]-1)].append([d[0]] + d[2:])\n",
    "    except:\n",
    "        print(d)"
   ]
  },
  {
   "cell_type": "code",
   "execution_count": 238,
   "metadata": {},
   "outputs": [
    {
     "data": {
      "text/plain": [
       "5"
      ]
     },
     "execution_count": 238,
     "metadata": {},
     "output_type": "execute_result"
    }
   ],
   "source": [
    "len(node_features[0][0])\n"
   ]
  },
  {
   "cell_type": "code",
   "execution_count": 239,
   "metadata": {},
   "outputs": [
    {
     "data": {
      "application/vnd.jupyter.widget-view+json": {
       "model_id": "02353c08b59e487786e7ff1109c8edc8",
       "version_major": 2,
       "version_minor": 0
      },
      "text/plain": [
       "HBox(children=(IntProgress(value=0, max=55), HTML(value='')))"
      ]
     },
     "metadata": {},
     "output_type": "display_data"
    }
   ],
   "source": [
    "node_data = []\n",
    "for nf in tqdm(node_features):\n",
    "    node_array = np.empty((T, len(node_features[0][0])-1))\n",
    "    node_array[:] = np.NaN\n",
    "    for ts in nf:\n",
    "        for feat in ts[1:]:\n",
    "            node_array[int(ts[0])-1] = feat\n",
    "    mask = np.isnan(node_array).T\n",
    "    idx = np.where(~mask,np.arange(mask.shape[1]),0)\n",
    "    np.maximum.accumulate(idx, axis=1, out=idx)\n",
    "    out = node_array.T[np.arange(idx.shape[0])[:,None], idx]\n",
    "    out = np.nan_to_num(out,0).T\n",
    "    node_data.append(out)"
   ]
  },
  {
   "cell_type": "code",
   "execution_count": 240,
   "metadata": {},
   "outputs": [],
   "source": [
    "data = np.stack(node_data, axis=0)\n",
    "X_tr= data"
   ]
  },
  {
   "cell_type": "code",
   "execution_count": 280,
   "metadata": {},
   "outputs": [
    {
     "data": {
      "text/plain": [
       "(55, 1001, 4)"
      ]
     },
     "execution_count": 280,
     "metadata": {},
     "output_type": "execute_result"
    }
   ],
   "source": [
    "X_tr.shape"
   ]
  },
  {
   "cell_type": "code",
   "execution_count": 283,
   "metadata": {},
   "outputs": [],
   "source": [
    "X_tr = X_tr.transpose(1,0,2)"
   ]
  },
  {
   "cell_type": "code",
   "execution_count": 301,
   "metadata": {},
   "outputs": [
    {
     "data": {
      "text/plain": [
       "(1001, 55, 4)"
      ]
     },
     "execution_count": 301,
     "metadata": {},
     "output_type": "execute_result"
    }
   ],
   "source": [
    "X_tr.shape"
   ]
  },
  {
   "cell_type": "code",
   "execution_count": 303,
   "metadata": {},
   "outputs": [
    {
     "data": {
      "text/plain": [
       "(100, 10, 5)"
      ]
     },
     "execution_count": 303,
     "metadata": {},
     "output_type": "execute_result"
    }
   ],
   "source": [
    "np.cumsum(np.random.normal(0, 1, (100, 10, 5)), axis=0).shape"
   ]
  },
  {
   "cell_type": "code",
   "execution_count": 342,
   "metadata": {},
   "outputs": [
    {
     "name": "stdout",
     "output_type": "stream",
     "text": [
      "Calculating M-PHATE...\n",
      "  Calculating multislice kernel...\n",
      "  Calculated multislice kernel in 19.62 seconds.\n",
      "  Calculating graph and diffusion operator...\n",
      "    Calculating landmark operator...\n",
      "      Calculating SVD...\n",
      "      Calculated SVD in 35.85 seconds.\n",
      "      Calculating KMeans...\n",
      "      Calculated KMeans in 56.22 seconds.\n",
      "    Calculated landmark operator in 96.88 seconds.\n",
      "  Calculated graph and diffusion operator in 99.04 seconds.\n",
      "  Running PHATE on precomputed affinity matrix with 55055 cells.\n",
      "  Calculating optimal t...\n",
      "  Calculated optimal t in 14.69 seconds.\n",
      "  Calculating diffusion potential...\n",
      "  Calculated diffusion potential in 7.71 seconds.\n",
      "  Calculating metric MDS...\n",
      "  Calculated metric MDS in 95.52 seconds.\n",
      "Calculated M-PHATE in 236.62 seconds.\n"
     ]
    }
   ],
   "source": [
    "m_phate_op = m_phate.M_PHATE(normalize=False, n_components=2, n_jobs=-2, intraslice_knn=10,interslice_knn=25)\n",
    "m_phate_data = m_phate_op.fit_transform(X_tr)"
   ]
  },
  {
   "cell_type": "code",
   "execution_count": 343,
   "metadata": {},
   "outputs": [
    {
     "data": {
      "text/plain": [
       "(54, 54)"
      ]
     },
     "execution_count": 343,
     "metadata": {},
     "output_type": "execute_result"
    }
   ],
   "source": [
    "adj.shape"
   ]
  },
  {
   "cell_type": "code",
   "execution_count": 344,
   "metadata": {},
   "outputs": [
    {
     "data": {
      "text/plain": [
       "array([False, False, False, False, False, False, False, False, False,\n",
       "       False, False,  True, False, False, False, False, False, False,\n",
       "       False, False, False, False, False, False, False, False, False,\n",
       "       False, False, False,  True, False, False, False, False, False,\n",
       "       False, False, False, False, False, False, False, False, False,\n",
       "       False, False, False, False, False,  True, False, False, False,\n",
       "       False])"
      ]
     },
     "execution_count": 344,
     "metadata": {},
     "output_type": "execute_result"
    }
   ],
   "source": [
    "np.isin(np.arange(n_nodes+1),[11,30,50])"
   ]
  },
  {
   "cell_type": "code",
   "execution_count": 351,
   "metadata": {},
   "outputs": [],
   "source": [
    "#nodeid = np.tile(np.arange(n_nodes+1), T)\n",
    "nodeid = np.tile(np.isin(np.arange(n_nodes+1),[11,30,49]), T)\n",
    "#nodeid = np.repeat(np.arange(T), n_nodes+1)"
   ]
  },
  {
   "cell_type": "code",
   "execution_count": 352,
   "metadata": {},
   "outputs": [
    {
     "data": {
      "text/plain": [
       "<matplotlib.axes._subplots.AxesSubplot at 0x1ec5d9bd0>"
      ]
     },
     "execution_count": 352,
     "metadata": {},
     "output_type": "execute_result"
    },
    {
     "data": {
      "image/png": "[encoded data removed]",
      "text/plain": [
       "<Figure size 432x288 with 1 Axes>"
      ]
     },
     "metadata": {},
     "output_type": "display_data"
    }
   ],
   "source": [
    "scprep.plot.scatter2d(m_phate_data, c=nodeid, ticks=False, title='intel-lab-data', label_prefix=\"M-PHATE\",filename=None)"
   ]
  },
  {
   "cell_type": "code",
   "execution_count": null,
   "metadata": {},
   "outputs": [],
   "source": []
  }
 ],
 "metadata": {
  "kernelspec": {
   "display_name": "Python 3",
   "language": "python",
   "name": "python3"
  },
  "language_info": {
   "codemirror_mode": {
    "name": "ipython",
    "version": 3
   },
   "file_extension": ".py",
   "mimetype": "text/x-python",
   "name": "python",
   "nbconvert_exporter": "python",
   "pygments_lexer": "ipython3",
   "version": "3.7.5"
  }
 },
 "nbformat": 4,
 "nbformat_minor": 2
}
